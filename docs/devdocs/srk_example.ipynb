{
 "cells": [
  {
   "cell_type": "markdown",
   "id": "bcbdcebc7f4e019f",
   "metadata": {
    "collapsed": false
   },
   "source": [
    "# Stochastic Runge-Kutta (SRK) demonstration\n",
    "The `AbstractSRK` class takes a `StochasticButcherTableau` and implements the corresponding SRK method.\n",
    "Depending on the tableau, the resulting method can either be used for general SDEs, or just for ones with additive noise.\n",
    "The additive-noise-only methods are somewhat faster, but will fail if the noise is not additive.\n",
    "Nevertheless, even in the additive noise case, the diffusion vector field can depend on time (just not on the state $y$). Then the SDE has the form:\n",
    "\n",
    "$$\n",
    "\\mathrm{d}y = f(y, t) \\mathrm{d}t + g(t) \\mathrm{d}W_t.\n",
    "$$\n",
    "\n",
    "To account for time-dependent noise, the SRK adds a term to the output of each step, which allows it to still maintain its usual strong order of convergence.\n",
    "\n",
    "The SRK is capable of utilising various types of time Lévy area, depending on the tableau provided. It can use:\n",
    "\n",
    "- just the Brownian motion $W$, without any Lévy area\n",
    "- $W$ and the space-time Lévy area $H$\n",
    "- $W$, $H$ and the space-time-time Lévy area $K$.\n",
    "\n",
    "For more information see the documentation of the `StochasticButcherTableau` class.\n",
    "\n",
    "First we will demonstrate an additive-noise-only SRK method, the ShARK method, on an SDE with additive, time-dependent noise.\n",
    "\n",
    "We will compare various additive-noise-only SRK methods as well as some general SRK methods proposed by Foster."
   ]
  },
  {
   "cell_type": "code",
   "execution_count": 1,
   "id": "initial_id",
   "metadata": {
    "ExecuteTime": {
     "end_time": "2024-05-21T16:52:30.728542Z",
     "start_time": "2024-05-21T16:52:28.959147Z"
    },
    "collapsed": true
   },
   "outputs": [],
   "source": [
    "%env JAX_PLATFORM_NAME=cuda\n",
    "\n",
    "from test.helpers import (\n",
    "    get_mlp_sde,\n",
    "    get_time_sde,\n",
    "    simple_sde_order,\n",
    ")\n",
    "\n",
    "import diffrax\n",
    "import jax.numpy as jnp\n",
    "import jax.random as jr\n",
    "import matplotlib.pyplot as plt\n",
    "from diffrax import (\n",
    "    diffeqsolve,\n",
    "    GeneralShARK,\n",
    "    ShARK,\n",
    "    SlowRK,\n",
    "    SpaceTimeLevyArea,\n",
    "    SPaRK,\n",
    "    SRA1,\n",
    ")\n",
    "from jax import config\n",
    "\n",
    "\n",
    "config.update(\"jax_enable_x64\", True)\n",
    "jnp.set_printoptions(precision=4, suppress=True)\n",
    "\n",
    "\n",
    "# Plotting\n",
    "def draw_order(results):\n",
    "    steps, errs, order = results\n",
    "    plt.plot(steps, errs)\n",
    "    plt.yscale(\"log\")\n",
    "    plt.xscale(\"log\")\n",
    "    pretty_steps = [int(step) for step in steps]\n",
    "    plt.xticks(ticks=pretty_steps, labels=pretty_steps)\n",
    "    plt.ylabel(\"RMS error\")\n",
    "    plt.xlabel(\"average number of steps\")\n",
    "    plt.show()\n",
    "    print(f\"Order of convergence: {order:.4f}\")\n",
    "\n",
    "\n",
    "def plot_sol_general(sol):\n",
    "    plt.plot(sol.ts, sol.ys)\n",
    "    plt.show()\n",
    "\n",
    "\n",
    "def draw_order_multiple(results_list, names_list, title=None):\n",
    "    plt.figure(dpi=200)\n",
    "    if title is not None:\n",
    "        plt.title(title)\n",
    "\n",
    "    orders = \"Orders of convergence:\\n\"\n",
    "    for results, name in zip(results_list, names_list):\n",
    "        steps, errs, order = results\n",
    "        plt.plot(steps, errs, label=name)\n",
    "        orders += f\"{name}: {order:.4f}\\n\"\n",
    "    plt.yscale(\"log\")\n",
    "    plt.xscale(\"log\")\n",
    "    plt.ylabel(\"RMS error\")\n",
    "    plt.xlabel(\"average number of steps\")\n",
    "    plt.legend()\n",
    "\n",
    "    # Write the orders in the corner of the plot\n",
    "    plt.text(\n",
    "        0.05,\n",
    "        0.05,\n",
    "        orders,\n",
    "        transform=plt.gca().transAxes,\n",
    "        verticalalignment=\"bottom\",\n",
    "        fontsize=10,\n",
    "    )\n",
    "    plt.show()\n",
    "\n",
    "\n",
    "dtype = jnp.float64\n",
    "key = jr.PRNGKey(2)\n",
    "sde_key = jr.PRNGKey(11)\n",
    "num_samples = 1000\n",
    "keys = jr.split(jr.PRNGKey(5678), num=num_samples)\n",
    "\n",
    "t0, t1 = 0.0, 16.0\n",
    "t_short = 4.0\n",
    "t_long = 32.0\n",
    "save_at_solver_steps = diffrax.SaveAt(steps=True)\n",
    "\n",
    "\n",
    "def constant_step_strong_order(keys, sde, solver, levels, bm_tol=None):\n",
    "    def _step_ts(level):\n",
    "        return jnp.linspace(sde.t0, sde.t1, 2**level + 1, endpoint=True)\n",
    "\n",
    "    def get_controller(level):\n",
    "        return None, diffrax.StepTo(ts=_step_ts(level))\n",
    "\n",
    "    _saveat = diffrax.SaveAt(ts=_step_ts(levels[0]))\n",
    "    if bm_tol is None:\n",
    "        bm_tol = (sde.t1 - sde.t0) * (2 ** -(levels[1] + 5))\n",
    "    return simple_sde_order(\n",
    "        keys, sde, solver, solver, levels, get_controller, _saveat, bm_tol\n",
    "    )\n",
    "\n",
    "\n",
    "def pid_strong_order(keys, sde, solver, levels, bm_tol=2**-18):\n",
    "    save_ts_pid = jnp.linspace(sde.t0, sde.t1, 65, endpoint=True)\n",
    "\n",
    "    def get_pid(level):\n",
    "        pid = diffrax.PIDController(\n",
    "            pcoeff=0.1,\n",
    "            icoeff=0.3,\n",
    "            rtol=2 ** -(level - 1),\n",
    "            atol=2 ** -(level + 3),\n",
    "            dtmin=2**-14,\n",
    "        )\n",
    "        return diffrax.JumpStepWrapper(\n",
    "            pid,\n",
    "            step_ts=save_ts_pid,\n",
    "        )\n",
    "\n",
    "    saveat_pid = diffrax.SaveAt(ts=save_ts_pid)\n",
    "    return simple_sde_order(\n",
    "        keys, sde, solver, solver, levels, get_pid, saveat_pid, bm_tol\n",
    "    )\n",
    "\n",
    "\n",
    "time_sde = get_time_sde(t0, t1, dtype=dtype, noise_dim=7, key=sde_key)\n",
    "terms_time_sde = time_sde.get_terms(\n",
    "    time_sde.get_bm(key, levy_area=SpaceTimeLevyArea, tol=2**-10)\n",
    ")\n",
    "time_sde_short = get_time_sde(t0, t_short, dtype=dtype, noise_dim=7, key=sde_key)\n",
    "\n",
    "mlp_sde = get_mlp_sde(t0, t1, dtype=dtype, key=sde_key, noise_dim=3)\n",
    "terms_mlp_sde = mlp_sde.get_terms(\n",
    "    mlp_sde.get_bm(key, levy_area=SpaceTimeLevyArea, tol=2**-10)\n",
    ")\n",
    "mlp_sde_short = get_mlp_sde(t0, t_short, dtype=dtype, key=sde_key, noise_dim=3)\n",
    "\n",
    "commutative_sde = get_mlp_sde(t0, t1, dtype=dtype, key=sde_key, noise_dim=1)\n",
    "terms_commutative_sde = commutative_sde.get_terms(\n",
    "    commutative_sde.get_bm(key, levy_area=SpaceTimeLevyArea, tol=2**-10)\n",
    ")\n",
    "commutative_sde_short = get_mlp_sde(t0, t_short, dtype=dtype, key=sde_key, noise_dim=1)"
   ]
  },
  {
   "cell_type": "code",
   "execution_count": 4,
   "id": "3b0a11dc7bb9f9bc",
   "metadata": {
    "ExecuteTime": {
     "end_time": "2024-04-02T15:04:57.426134Z",
     "start_time": "2024-04-02T15:04:56.415910Z"
    },
    "collapsed": false
   },
   "outputs": [],
   "source": [
    "# A plot of the solution of the SDE used to compare the methods\n",
    "sol_general = diffeqsolve(\n",
    "    terms_mlp_sde,\n",
    "    GeneralShARK(),\n",
    "    t0,\n",
    "    t1,\n",
    "    dt0=0.02,\n",
    "    y0=mlp_sde.y0,\n",
    "    args=mlp_sde.args,\n",
    "    saveat=diffrax.SaveAt(steps=True),\n",
    ")\n",
    "plot_sol_general(sol_general)"
   ]
  },
  {
   "cell_type": "markdown",
   "id": "3114fb2bcb2ab174",
   "metadata": {
    "collapsed": false
   },
   "source": [
    "### ShARK\n",
    "`ShARK` is an SRK method for additive-noise SDEs. It uses two vector-field evaluations per step and has strong order 1.5, but applied to an Underdamped Langevin SDE it has order 2.\n",
    " While it has the same order as `SRA1`, it has a better proportionality constant.\n",
    "\n",
    "Based on equation (6.1) in\n",
    "    Foster, J., dos Reis, G., & Strange, C. (2023).\n",
    "    High order splitting methods for SDEs satisfying a commutativity condition.\n",
    "    arXiv [Math.NA] http://arxiv.org/abs/2210.17543\n",
    "    \n",
    "\n",
    "### General ShARK\n",
    "`GeneralShARK` is a generalisation of the ShARK method which now works for any SDE, not only those with additive noise. It uses three evaluations of the vector field per step and has the following strong orders of convergence:\n",
    "- 2 for the Underdamped Langevin SDEs\n",
    "- 1.5 for additive noise SDEs\n",
    "- 1 for commutative noise SDEs\n",
    "- 0.5 for general SDEs.\n",
    "\n",
    "\n",
    "### SRA1\n",
    "Another method for additive-noise SDEs.\n",
    "`SRA1` normally has strong order 1.5, but when applied to an Underdamped Langevin SDE it has order 2. It natively supports adaptive-stepping via an embedded method for error estimation. Uses two evaluations of the vector-field per step.\n",
    "\n",
    "Based on the SRA1 method from\n",
    "    A. Rößler, Runge–Kutta methods for the strong approximation of solutions of stochastic differential equations,\n",
    "    SIAM Journal on Numerical Analysis, 8 (2010), pp. 922–952.\n",
    "    \n",
    "\n",
    "### Shifted Additive-noise Euler (SEA)\n",
    "This variant of the Euler-Maruyama makes use of the space-time Lévy area, which improves its local error to $O(h^2)$ compared to $O(h^{1.5})$ of the standard Euler-Maruyama. Nevertheless, it has a strong order of only 1 for additive-noise SDEs.\n",
    "\n",
    "\n",
    " ### The \"Splitting Path Runge-Kutta\" (SPaRK) method\n",
    "This is a general Stochastic Runge-Kutta method with 3 evaluations of the vector field per step,\n",
    "based on Definition 1.6 from\n",
    "Foster, J. (2023).\n",
    "On the convergence of adaptive approximations for stochastic differential equations.\n",
    "arXiv [Math.NA]. Retrieved from http://arxiv.org/abs/2311.14201\n",
    "\n",
    "For general SDEs, this has order 0.5.\n",
    "When the noise is commutative it has order 1.\n",
    "When the noise is additive it has order 1.5.\n",
    "For the Underdamped Langevin SDE it has order 2.\n",
    "Requires the space-time Lévy area H.\n",
    "It also natively supports adaptive time-stepping.\n",
    "\n",
    "\n",
    "### SLOW-RK\n",
    "This is a general Stochastic Runge-Kutta method with 7 stages (2 evaluations of the drift vector field and 5 evaluations of the diffusion vector field) per step. Remarkably, it has order 1.5 for commutative noise SDEs and order 0.5 for general SDEs.\n",
    "Devised by James Foster."
   ]
  },
  {
   "cell_type": "markdown",
   "id": "12f62a28fb25ada",
   "metadata": {
    "collapsed": false
   },
   "source": [
    "## Comparison of the orders of convergence of various SRK methods\n",
    "### General SDEs"
   ]
  },
  {
   "cell_type": "code",
   "execution_count": 5,
   "id": "5a8d281b0522bb92",
   "metadata": {
    "ExecuteTime": {
     "end_time": "2024-04-02T15:06:25.955243Z",
     "start_time": "2024-04-02T15:04:57.426878Z"
    },
    "collapsed": false
   },
   "outputs": [],
   "source": [
    "# A comparison of SlowRK, SPaRK and GeneralShARK for general SDEs\n",
    "# We compute their orders and plot them on the same graph\n",
    "out_SLOWRK_mlp_sde = constant_step_strong_order(\n",
    "    keys, mlp_sde_short, SlowRK(), levels=(4, 10)\n",
    ")\n",
    "out_SPaRK_mlp_sde = constant_step_strong_order(\n",
    "    keys, mlp_sde_short, SPaRK(), levels=(4, 10)\n",
    ")\n",
    "out_GenShARK_mlp_sde = constant_step_strong_order(\n",
    "    keys, mlp_sde_short, GeneralShARK(), levels=(4, 10)\n",
    ")"
   ]
  },
  {
   "cell_type": "code",
   "execution_count": 6,
   "id": "5beb86506adfa933",
   "metadata": {
    "ExecuteTime": {
     "end_time": "2024-04-02T15:06:26.185839Z",
     "start_time": "2024-04-02T15:06:25.956242Z"
    },
    "collapsed": false
   },
   "outputs": [],
   "source": [
    "draw_order_multiple(\n",
    "    [out_SLOWRK_mlp_sde, out_SPaRK_mlp_sde, out_GenShARK_mlp_sde],\n",
    "    [\"SlowRK\", \"SPaRK\", \"GeneralShARK\"],\n",
    "    title=\"Order of convergence on a general SDE\",\n",
    ")"
   ]
  },
  {
   "cell_type": "markdown",
   "id": "a260a1022d30c8",
   "metadata": {
    "collapsed": false
   },
   "source": [
    "### Commutative noise SDEs"
   ]
  },
  {
   "cell_type": "code",
   "execution_count": 7,
   "id": "4c72a44488366e9d",
   "metadata": {
    "ExecuteTime": {
     "end_time": "2024-04-02T15:06:28.473708Z",
     "start_time": "2024-04-02T15:06:26.187052Z"
    },
    "collapsed": false
   },
   "outputs": [],
   "source": [
    "# A plot of the solution of the commutative-noise SDE used to compare the methods\n",
    "# A plot of the solution of the SDE\n",
    "# We will use this to compare the methods\n",
    "sol_commutative = diffeqsolve(\n",
    "    terms_commutative_sde,\n",
    "    GeneralShARK(),\n",
    "    t0,\n",
    "    t1,\n",
    "    dt0=0.02,\n",
    "    y0=commutative_sde.y0,\n",
    "    args=commutative_sde.args,\n",
    "    saveat=diffrax.SaveAt(steps=True),\n",
    ")\n",
    "plot_sol_general(sol_commutative)"
   ]
  },
  {
   "cell_type": "code",
   "execution_count": 8,
   "id": "3f6e04f29792d26a",
   "metadata": {
    "ExecuteTime": {
     "end_time": "2024-04-02T15:07:43.564266Z",
     "start_time": "2024-04-02T15:06:28.474256Z"
    },
    "collapsed": false
   },
   "outputs": [],
   "source": [
    "# A comparison of SlowRK, SPaRK and GeneralShARK for commutative noise SDEs\n",
    "# We compute their orders and plot them on the same graph\n",
    "out_SLOWRK_commutative_sde = constant_step_strong_order(\n",
    "    keys, commutative_sde_short, SlowRK(), levels=(4, 10)\n",
    ")\n",
    "out_SPaRK_commutive_sde = constant_step_strong_order(\n",
    "    keys, commutative_sde_short, SPaRK(), levels=(4, 10)\n",
    ")\n",
    "out_GenShARK_commutative_sde = constant_step_strong_order(\n",
    "    keys, commutative_sde_short, GeneralShARK(), levels=(4, 10)\n",
    ")"
   ]
  },
  {
   "cell_type": "code",
   "execution_count": 9,
   "id": "9a887a880a90ecd4",
   "metadata": {
    "ExecuteTime": {
     "end_time": "2024-04-02T15:07:44.059675Z",
     "start_time": "2024-04-02T15:07:43.564994Z"
    },
    "collapsed": false
   },
   "outputs": [],
   "source": [
    "draw_order_multiple(\n",
    "    [\n",
    "        out_SLOWRK_commutative_sde,\n",
    "        out_SPaRK_commutive_sde,\n",
    "        out_GenShARK_commutative_sde,\n",
    "    ],\n",
    "    [\"SlowRK\", \"SPaRK\", \"GeneralShARK\"],\n",
    "    title=\"Order of convergence on a commutative noise SDE\",\n",
    ")"
   ]
  },
  {
   "cell_type": "markdown",
   "id": "604ba9f83e626b75",
   "metadata": {
    "collapsed": false
   },
   "source": [
    "### Additive noise SDEs"
   ]
  },
  {
   "cell_type": "code",
   "execution_count": 10,
   "id": "9b82db9458a6d31a",
   "metadata": {
    "ExecuteTime": {
     "end_time": "2024-04-02T15:07:46.653744Z",
     "start_time": "2024-04-02T15:07:44.060391Z"
    },
    "collapsed": false
   },
   "outputs": [],
   "source": [
    "# A plot of the solution of the additive-noise SDE used to compare the methods\n",
    "# A plot of the solution of the SDE\n",
    "# We will use this to compare the methods\n",
    "sol_additive = diffeqsolve(\n",
    "    terms_time_sde,\n",
    "    ShARK(),\n",
    "    t0,\n",
    "    t1,\n",
    "    dt0=0.02,\n",
    "    y0=time_sde.y0,\n",
    "    args=time_sde.args,\n",
    "    saveat=diffrax.SaveAt(steps=True),\n",
    ")\n",
    "plot_sol_general(sol_additive)"
   ]
  },
  {
   "cell_type": "code",
   "execution_count": 2,
   "id": "a8aeb3aa7e69b296",
   "metadata": {
    "ExecuteTime": {
     "end_time": "2024-05-21T17:02:49.709780Z",
     "start_time": "2024-05-21T16:52:59.106411Z"
    },
    "collapsed": false
   },
   "outputs": [],
   "source": [
    "# A comparison of SRKs for additive noise SDEs\n",
    "# We compute their orders and plot them on the same graph\n",
    "out_SLOWRK_time_sde = constant_step_strong_order(\n",
    "    keys, time_sde_short, SlowRK(), levels=(7, 12)\n",
    ")\n",
    "out_SPaRK_time_sde = constant_step_strong_order(\n",
    "    keys, time_sde_short, SPaRK(), levels=(7, 12)\n",
    ")\n",
    "out_GenShARK_time_sde = constant_step_strong_order(\n",
    "    keys, time_sde_short, GeneralShARK(), levels=(7, 12)\n",
    ")\n",
    "out_ShARK_time_sde = constant_step_strong_order(\n",
    "    keys, time_sde_short, ShARK(), levels=(7, 12)\n",
    ")\n",
    "out_SRA1_time_sde = constant_step_strong_order(\n",
    "    keys, time_sde_short, SRA1(), levels=(7, 12)\n",
    ")"
   ]
  },
  {
   "cell_type": "code",
   "execution_count": 3,
   "id": "78fed5faa530d9eb",
   "metadata": {
    "ExecuteTime": {
     "end_time": "2024-05-21T17:02:49.986970Z",
     "start_time": "2024-05-21T17:02:49.710860Z"
    },
    "collapsed": false
   },
   "outputs": [],
   "source": [
    "draw_order_multiple(\n",
    "    [\n",
    "        out_SLOWRK_time_sde,\n",
    "        out_SPaRK_time_sde,\n",
    "        out_GenShARK_time_sde,\n",
    "        out_ShARK_time_sde,\n",
    "        out_SRA1_time_sde,\n",
    "    ],\n",
    "    [\"SlowRK\", \"SPaRK\", \"GeneralShARK\", \"ShARK\", \"SRA1\"],\n",
    "    title=\"Order of convergence on an additive noise SDE\",\n",
    ")"
   ]
  }
 ],
 "metadata": {
  "kernelspec": {
   "display_name": "Python 3",
   "language": "python",
   "name": "python3"
  },
  "language_info": {
   "codemirror_mode": {
    "name": "ipython",
    "version": 2
   },
   "file_extension": ".py",
   "mimetype": "text/x-python",
   "name": "python",
   "nbconvert_exporter": "python",
   "pygments_lexer": "ipython2",
   "version": "2.7.6"
  }
 },
 "nbformat": 4,
 "nbformat_minor": 5
}
