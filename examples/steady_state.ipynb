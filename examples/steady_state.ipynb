{
 "cells": [
  {
   "cell_type": "markdown",
   "id": "9877bdcb",
   "metadata": {},
   "source": [
    "# Steady states"
   ]
  },
  {
   "cell_type": "markdown",
   "id": "3a16df75",
   "metadata": {},
   "source": [
    "This example demonstrates how to use Diffrax to solve an ODE until it reaches a steady state. The key feature will be the use of event handling to detect that the steady state has been reached.\n",
    "\n",
    "In addition, for this example we need to backpropagate through the procedure of finding a steady state. We can do this efficiently using the implicit function theorem.\n",
    "\n",
    "This example is available as a Jupyter notebook [here](https://github.com/patrick-kidger/diffrax/blob/main/examples/steady_state.ipynb)."
   ]
  },
  {
   "cell_type": "code",
   "execution_count": 1,
   "id": "7053a132",
   "metadata": {
    "execute": {
     "shell": {
      "execute_reply": "2022-07-15T17:49:27.190533+00:00"
     }
    },
    "iopub": {
     "execute_input": "2022-07-15T17:46:56.174218+00:00",
     "status": {
      "busy": "2022-07-15T17:46:56.173283+00:00",
      "idle": "2022-07-15T17:49:27.191890+00:00"
     }
    }
   },
   "outputs": [],
   "source": [
    "import diffrax\n",
    "import equinox as eqx  # https://github.com/patrick-kidger/equinox\n",
    "import jax.numpy as jnp\n",
    "import optax  # https://github.com/deepmind/optax"
   ]
  },
  {
   "cell_type": "code",
   "execution_count": 2,
   "id": "5a39737f",
   "metadata": {
    "execute": {
     "shell": {
      "execute_reply": "2022-07-15T17:49:27.200260+00:00"
     }
    },
    "iopub": {
     "execute_input": "2022-07-15T17:49:27.194682+00:00",
     "status": {
      "busy": "2022-07-15T17:49:27.194211+00:00",
      "idle": "2022-07-15T17:49:27.201694+00:00"
     }
    }
   },
   "outputs": [],
   "source": [
    "class ExponentialDecayToSteadyState(eqx.Module):\n",
    "    steady_state: float\n",
    "\n",
    "    def __call__(self, t, y, args):\n",
    "        return self.steady_state - y"
   ]
  },
  {
   "cell_type": "code",
   "execution_count": 3,
   "id": "525b5430",
   "metadata": {
    "execute": {
     "shell": {
      "execute_reply": "2022-07-15T17:49:27.210168+00:00"
     }
    },
    "iopub": {
     "execute_input": "2022-07-15T17:49:27.203780+00:00",
     "status": {
      "busy": "2022-07-15T17:49:27.202937+00:00",
      "idle": "2022-07-15T17:49:27.211528+00:00"
     }
    }
   },
   "outputs": [],
   "source": [
    "def loss(model, target_steady_state):\n",
    "    term = diffrax.ODETerm(model)\n",
    "    solver = diffrax.Tsit5()\n",
    "    t0 = 0\n",
    "    t1 = jnp.inf\n",
    "    dt0 = None\n",
    "    y0 = 1.0\n",
    "    max_steps = None\n",
    "    controller = diffrax.PIDController(rtol=1e-3, atol=1e-6)\n",
    "    cond_fn = diffrax.steady_state_event()\n",
    "    event = diffrax.Event(cond_fn)\n",
    "    adjoint = diffrax.ImplicitAdjoint()\n",
    "    # This combination of event, t1, max_steps, adjoint is particularly\n",
    "    # natural: we keep integration forever until we hit the event, with\n",
    "    # no maximum time or number of steps. Backpropagation happens via\n",
    "    # the implicit function theorem.\n",
    "    sol = diffrax.diffeqsolve(\n",
    "        term,\n",
    "        solver,\n",
    "        t0,\n",
    "        t1,\n",
    "        dt0,\n",
    "        y0,\n",
    "        max_steps=max_steps,\n",
    "        stepsize_controller=controller,\n",
    "        event=event,\n",
    "        adjoint=adjoint,\n",
    "    )\n",
    "    (y1,) = sol.ys\n",
    "    return (y1 - target_steady_state) ** 2"
   ]
  },
  {
   "cell_type": "code",
   "execution_count": 4,
   "id": "ec634466",
   "metadata": {
    "execute": {
     "shell": {
      "execute_reply": "2022-07-15T17:49:28.926507+00:00"
     }
    },
    "iopub": {
     "execute_input": "2022-07-15T17:49:27.214972+00:00",
     "status": {
      "busy": "2022-07-15T17:49:27.214240+00:00",
      "idle": "2022-07-15T17:49:28.927742+00:00"
     }
    }
   },
   "outputs": [
    {
     "name": "stdout",
     "output_type": "stream",
     "text": [
      "Step: 0 Steady State: 0.025839969515800476\n",
      "Step: 1 Steady State: 0.05824900045990944\n",
      "Step: 2 Steady State: 0.09451568126678467\n",
      "Step: 3 Steady State: 0.1327039748430252\n",
      "Step: 4 Steady State: 0.1714443564414978\n",
      "Step: 5 Steady State: 0.20979028940200806\n",
      "Step: 6 Steady State: 0.24709881842136383\n",
      "Step: 7 Steady State: 0.28294941782951355\n",
      "Step: 8 Steady State: 0.31707584857940674\n",
      "Step: 9 Steady State: 0.34934186935424805\n",
      "Step: 10 Steady State: 0.37968698143959045\n",
      "Step: 11 Steady State: 0.4081074893474579\n",
      "Step: 12 Steady State: 0.43463948369026184\n",
      "Step: 13 Steady State: 0.45934492349624634\n",
      "Step: 14 Steady State: 0.48230400681495667\n",
      "Step: 15 Steady State: 0.5036059021949768\n",
      "Step: 16 Steady State: 0.5233321189880371\n",
      "Step: 17 Steady State: 0.5415896773338318\n",
      "Step: 18 Steady State: 0.5584752559661865\n",
      "Step: 19 Steady State: 0.5740804076194763\n",
      "Step: 20 Steady State: 0.5884985327720642\n",
      "Step: 21 Steady State: 0.6018134951591492\n",
      "Step: 22 Steady State: 0.6141058206558228\n",
      "Step: 23 Steady State: 0.6254505515098572\n",
      "Step: 24 Steady State: 0.6359192728996277\n",
      "Step: 25 Steady State: 0.6455777287483215\n",
      "Step: 26 Steady State: 0.6544871926307678\n",
      "Step: 27 Steady State: 0.6627050638198853\n",
      "Step: 28 Steady State: 0.6702842116355896\n",
      "Step: 29 Steady State: 0.6772737503051758\n",
      "Step: 30 Steady State: 0.6837191581726074\n",
      "Step: 31 Steady State: 0.6896624565124512\n",
      "Step: 32 Steady State: 0.6951420903205872\n",
      "Step: 33 Steady State: 0.7001940608024597\n",
      "Step: 34 Steady State: 0.7048525214195251\n",
      "Step: 35 Steady State: 0.709147572517395\n",
      "Step: 36 Steady State: 0.7131075263023376\n",
      "Step: 37 Steady State: 0.7167584300041199\n",
      "Step: 38 Steady State: 0.720124363899231\n",
      "Step: 39 Steady State: 0.7232275605201721\n",
      "Step: 40 Steady State: 0.7260884642601013\n",
      "Step: 41 Steady State: 0.7287259697914124\n",
      "Step: 42 Steady State: 0.7311574816703796\n",
      "Step: 43 Steady State: 0.7333983778953552\n",
      "Step: 44 Steady State: 0.7354647517204285\n",
      "Step: 45 Steady State: 0.7373697757720947\n",
      "Step: 46 Steady State: 0.7391260266304016\n",
      "Step: 47 Steady State: 0.7407451272010803\n",
      "Step: 48 Steady State: 0.7422377467155457\n",
      "Step: 49 Steady State: 0.7436137795448303\n",
      "Step: 50 Steady State: 0.7448822855949402\n",
      "Step: 51 Steady State: 0.7460517287254333\n",
      "Step: 52 Steady State: 0.7471297979354858\n",
      "Step: 53 Steady State: 0.7481234669685364\n",
      "Step: 54 Steady State: 0.7490396499633789\n",
      "Step: 55 Steady State: 0.7498842477798462\n",
      "Step: 56 Steady State: 0.7506628632545471\n",
      "Step: 57 Steady State: 0.7513806223869324\n",
      "Step: 58 Steady State: 0.7520219683647156\n",
      "Step: 59 Steady State: 0.7526065707206726\n",
      "Step: 60 Steady State: 0.7531405687332153\n",
      "Step: 61 Steady State: 0.7536292672157288\n",
      "Step: 62 Steady State: 0.754077136516571\n",
      "Step: 63 Steady State: 0.7544881105422974\n",
      "Step: 64 Steady State: 0.7548655867576599\n",
      "Step: 65 Steady State: 0.7552322149276733\n",
      "Step: 66 Steady State: 0.7555564045906067\n",
      "Step: 67 Steady State: 0.7558530569076538\n",
      "Step: 68 Steady State: 0.7561249732971191\n",
      "Step: 69 Steady State: 0.7563938498497009\n",
      "Step: 70 Steady State: 0.7566279768943787\n",
      "Step: 71 Steady State: 0.7568415403366089\n",
      "Step: 72 Steady State: 0.7570368051528931\n",
      "Step: 73 Steady State: 0.7572155594825745\n",
      "Step: 74 Steady State: 0.7573794722557068\n",
      "Step: 75 Steady State: 0.7575299143791199\n",
      "Step: 76 Steady State: 0.757668137550354\n",
      "Step: 77 Steady State: 0.7577952742576599\n",
      "Step: 78 Steady State: 0.7579122185707092\n",
      "Step: 79 Steady State: 0.7580198645591736\n",
      "Step: 80 Steady State: 0.7581189870834351\n",
      "Step: 81 Steady State: 0.758210301399231\n",
      "Step: 82 Steady State: 0.7583132982254028\n",
      "Step: 83 Steady State: 0.7583956122398376\n",
      "Step: 84 Steady State: 0.7584698796272278\n",
      "Step: 85 Steady State: 0.7585371136665344\n",
      "Step: 86 Steady State: 0.7585982084274292\n",
      "Step: 87 Steady State: 0.7586538791656494\n",
      "Step: 88 Steady State: 0.7587047219276428\n",
      "Step: 89 Steady State: 0.7587512731552124\n",
      "Step: 90 Steady State: 0.7587938904762268\n",
      "Step: 91 Steady State: 0.7588329911231995\n",
      "Step: 92 Steady State: 0.758868932723999\n",
      "Step: 93 Steady State: 0.7589019536972046\n",
      "Step: 94 Steady State: 0.7589322924613953\n",
      "Step: 95 Steady State: 0.7589602470397949\n",
      "Step: 96 Steady State: 0.7589859366416931\n",
      "Step: 97 Steady State: 0.7590096592903137\n",
      "Step: 98 Steady State: 0.7590314745903015\n",
      "Step: 99 Steady State: 0.7590516209602356\n",
      "Target: 0.7599999904632568\n"
     ]
    }
   ],
   "source": [
    "model = ExponentialDecayToSteadyState(\n",
    "    jnp.array(0.0)\n",
    ")  # initial steady state guess is 0.\n",
    "# target steady state is 0.76\n",
    "target_steady_state = jnp.array(0.76)\n",
    "optim = optax.sgd(1e-2, momentum=0.7, nesterov=True)\n",
    "opt_state = optim.init(model)\n",
    "\n",
    "\n",
    "@eqx.filter_jit\n",
    "def make_step(model, opt_state, target_steady_state):\n",
    "    grads = eqx.filter_grad(loss)(model, target_steady_state)\n",
    "    updates, opt_state = optim.update(grads, opt_state)\n",
    "    model = eqx.apply_updates(model, updates)\n",
    "    return model, opt_state\n",
    "\n",
    "\n",
    "for step in range(100):\n",
    "    model, opt_state = make_step(model, opt_state, target_steady_state)\n",
    "    print(f\"Step: {step} Steady State: {model.steady_state}\")\n",
    "print(f\"Target: {target_steady_state}\")"
   ]
  }
 ],
 "metadata": {
  "kernelspec": {
   "display_name": "diffrax",
   "language": "python",
   "name": "python3"
  },
  "language_info": {
   "codemirror_mode": {
    "name": "ipython",
    "version": 3
   },
   "file_extension": ".py",
   "mimetype": "text/x-python",
   "name": "python",
   "nbconvert_exporter": "python",
   "pygments_lexer": "ipython3",
   "version": "3.11.0"
  }
 },
 "nbformat": 4,
 "nbformat_minor": 4
}
